{
 "cells": [
  {
   "cell_type": "code",
   "execution_count": 35,
   "metadata": {},
   "outputs": [
    {
     "name": "stdout",
     "output_type": "stream",
     "text": [
      "正在加载已有索引\n"
     ]
    },
    {
     "data": {
      "text/plain": [
       "{'form', 'ing', 'plural', 'run', 'test'}"
      ]
     },
     "execution_count": 35,
     "metadata": {},
     "output_type": "execute_result"
    }
   ],
   "source": [
    "from InvertedIndex import InvertIndex\n",
    "import numpy as np\n",
    "import matplotlib.pyplot as plt  \n",
    "test = InvertIndex('./datasets', 'test')\n",
    "\n",
    "test.deletePunctuation('Plural form: tests; Ing form: running')\n"
   ]
  },
  {
   "cell_type": "code",
   "execution_count": 36,
   "metadata": {},
   "outputs": [
    {
     "name": "stdout",
     "output_type": "stream",
     "text": [
      "正在加载已有索引\n"
     ]
    }
   ],
   "source": [
    "from InvertedIndex import InvertIndex\n",
    "from tqdm import tqdm\n",
    "import numpy as np\n",
    "import matplotlib.pyplot as plt  \n",
    "import math\n",
    "from scipy.optimize import curve_fit\n",
    "test = InvertIndex('./datasets', 'whole')\n",
    "l = len(test.tokens_lib)\n",
    "x = []\n",
    "x1 = []\n",
    "y = []\n",
    "y1 = []\n",
    "for i in tqdm(range(100, 10000, 100)):\n",
    "    x.append(i)\n",
    "    y.append(len(test.tokens_to_terms(test.tokens_lib[:i])))\n",
    "for i in tqdm(range(10000, l, 50000)):\n",
    "    x.append(i)\n",
    "    y.append(len(test.tokens_to_terms(test.tokens_lib[:i])))\n",
    "\n",
    "for i in x:\n",
    "    x1.append(math.log10(i))\n",
    "for i in y:\n",
    "    y1.append(math.log10(i))\n",
    "    \n",
    "# print(x1, y1)\n",
    "def Fun(x,a1,a2):                   # 定义拟合函数形式\n",
    "    return a1*x+a2\n",
    "\n",
    "p0 = [1,2] # 拟合的初始参数设置\n",
    "para,pcov=curve_fit(Fun,x1[1:],y1[1:])\n",
    "\n",
    "print (para)\n",
    "\n",
    "x2 = x1.copy()\n",
    "x2.insert(0,0)\n",
    "y2 = [para[0]*i+para[1] for i in x2]\n",
    "l1=plt.plot(x1[1:],y1[1:],'r',label='original')\n",
    "l2 = plt.plot(x2,y2,'b--',label='fit')\n",
    "# plt.plot(x1,y1,'ro-')\n",
    "plt.title('Heaps\\' Law on Big Datasets')\n",
    "plt.xlabel('lgT')\n",
    "plt.ylabel('lgM')\n",
    "plt.legend()\n",
    "plt.show()"
   ]
  },
  {
   "cell_type": "code",
   "execution_count": null,
   "metadata": {},
   "outputs": [
    {
     "name": "stdout",
     "output_type": "stream",
     "text": [
      "正在加载已有索引\n"
     ]
    },
    {
     "name": "stderr",
     "output_type": "stream",
     "text": [
      "100%|██████████| 99/99 [00:09<00:00, 10.83it/s]\n",
      "100%|██████████| 14/14 [00:19<00:00,  1.39s/it]\n"
     ]
    },
    {
     "name": "stdout",
     "output_type": "stream",
     "text": [
      "[0.56746401 0.89064051]\n"
     ]
    },
    {
     "data": {
      "image/png": "[encoded data removed]",
      "text/plain": [
       "<Figure size 432x288 with 1 Axes>"
      ]
     },
     "metadata": {
      "needs_background": "light"
     },
     "output_type": "display_data"
    }
   ],
   "source": [
    "from InvertedIndex import InvertIndex\n",
    "from tqdm import tqdm\n",
    "import numpy as np\n",
    "import matplotlib.pyplot as plt  \n",
    "import math\n",
    "from scipy.optimize import curve_fit\n",
    "test = InvertIndex('./datasets', 'test')\n",
    "l = len(test.tokens_lib)\n",
    "x = []\n",
    "x1 = []\n",
    "y = []\n",
    "y1 = []\n",
    "for i in tqdm(range(100, 10000, 100)):\n",
    "    x.append(i)\n",
    "    y.append(len(test.tokens_to_terms(test.tokens_lib[:i])))\n",
    "for i in tqdm(range(10000, l, 10000)):\n",
    "    x.append(i)\n",
    "    y.append(len(test.tokens_to_terms(test.tokens_lib[:i])))\n",
    "\n",
    "for i in x:\n",
    "    x1.append(math.log10(i))\n",
    "for i in y:\n",
    "    y1.append(math.log10(i))\n",
    "    \n",
    "# print(x1, y1)\n",
    "def Fun(x,a1,a2):                   # 定义拟合函数形式\n",
    "    return a1*x+a2\n",
    "\n",
    "p0 = [1,2] # 拟合的初始参数设置\n",
    "para,pcov=curve_fit(Fun,x1[1:],y1[1:])\n",
    "\n",
    "print (para)\n",
    "\n",
    "x2 = x1.copy()\n",
    "x2.insert(0,0)\n",
    "y2 = [para[0]*i+para[1] for i in x2]\n",
    "l1=plt.plot(x1[1:],y1[1:],'r',label='original')\n",
    "l2 = plt.plot(x2,y2,'b--',label='fit')\n",
    "# plt.plot(x1,y1,'ro-')\n",
    "plt.title('Heaps\\' Law on Small Datasets')\n",
    "plt.xlabel('lgT')\n",
    "plt.ylabel('lgM')\n",
    "plt.legend()\n",
    "plt.show()"
   ]
  },
  {
   "cell_type": "code",
   "execution_count": 15,
   "metadata": {},
   "outputs": [
    {
     "name": "stdout",
     "output_type": "stream",
     "text": [
      "正在加载已有索引\n"
     ]
    },
    {
     "ename": "KeyboardInterrupt",
     "evalue": "",
     "output_type": "error",
     "traceback": [
      "\u001b[0;31m---------------------------------------------------------------------------\u001b[0m",
      "\u001b[0;31mKeyboardInterrupt\u001b[0m                         Traceback (most recent call last)",
      "\u001b[1;32m/Users/alex_shen/SynologyDrive/PcBackup/深圳大学/课程/大三下/信息检索/大作业/code/testcode.ipynb Cell 4'\u001b[0m in \u001b[0;36m<cell line: 9>\u001b[0;34m()\u001b[0m\n\u001b[1;32m      <a href='vscode-notebook-cell:/Users/alex_shen/SynologyDrive/PcBackup/%E6%B7%B1%E5%9C%B3%E5%A4%A7%E5%AD%A6/%E8%AF%BE%E7%A8%8B/%E5%A4%A7%E4%B8%89%E4%B8%8B/%E4%BF%A1%E6%81%AF%E6%A3%80%E7%B4%A2/%E5%A4%A7%E4%BD%9C%E4%B8%9A/code/testcode.ipynb#ch0000004?line=6'>7</a>\u001b[0m \u001b[39mfrom\u001b[39;00m \u001b[39mcollections\u001b[39;00m \u001b[39mimport\u001b[39;00m Counter\n\u001b[1;32m      <a href='vscode-notebook-cell:/Users/alex_shen/SynologyDrive/PcBackup/%E6%B7%B1%E5%9C%B3%E5%A4%A7%E5%AD%A6/%E8%AF%BE%E7%A8%8B/%E5%A4%A7%E4%B8%89%E4%B8%8B/%E4%BF%A1%E6%81%AF%E6%A3%80%E7%B4%A2/%E5%A4%A7%E4%BD%9C%E4%B8%9A/code/testcode.ipynb#ch0000004?line=7'>8</a>\u001b[0m test \u001b[39m=\u001b[39m InvertIndex(\u001b[39m'\u001b[39m\u001b[39m./datasets\u001b[39m\u001b[39m'\u001b[39m, \u001b[39m'\u001b[39m\u001b[39mtest\u001b[39m\u001b[39m'\u001b[39m)\n\u001b[0;32m----> <a href='vscode-notebook-cell:/Users/alex_shen/SynologyDrive/PcBackup/%E6%B7%B1%E5%9C%B3%E5%A4%A7%E5%AD%A6/%E8%AF%BE%E7%A8%8B/%E5%A4%A7%E4%B8%89%E4%B8%8B/%E4%BF%A1%E6%81%AF%E6%A3%80%E7%B4%A2/%E5%A4%A7%E4%BD%9C%E4%B8%9A/code/testcode.ipynb#ch0000004?line=8'>9</a>\u001b[0m res \u001b[39m=\u001b[39m Counter(test\u001b[39m.\u001b[39;49mtokens_lib)\n\u001b[1;32m     <a href='vscode-notebook-cell:/Users/alex_shen/SynologyDrive/PcBackup/%E6%B7%B1%E5%9C%B3%E5%A4%A7%E5%AD%A6/%E8%AF%BE%E7%A8%8B/%E5%A4%A7%E4%B8%89%E4%B8%8B/%E4%BF%A1%E6%81%AF%E6%A3%80%E7%B4%A2/%E5%A4%A7%E4%BD%9C%E4%B8%9A/code/testcode.ipynb#ch0000004?line=9'>10</a>\u001b[0m res \u001b[39m=\u001b[39m \u001b[39msorted\u001b[39m(res\u001b[39m.\u001b[39mitems(), key\u001b[39m=\u001b[39m\u001b[39mlambda\u001b[39;00m x: x[\u001b[39m1\u001b[39m], reverse\u001b[39m=\u001b[39m\u001b[39mTrue\u001b[39;00m)\n\u001b[1;32m     <a href='vscode-notebook-cell:/Users/alex_shen/SynologyDrive/PcBackup/%E6%B7%B1%E5%9C%B3%E5%A4%A7%E5%AD%A6/%E8%AF%BE%E7%A8%8B/%E5%A4%A7%E4%B8%89%E4%B8%8B/%E4%BF%A1%E6%81%AF%E6%A3%80%E7%B4%A2/%E5%A4%A7%E4%BD%9C%E4%B8%9A/code/testcode.ipynb#ch0000004?line=10'>11</a>\u001b[0m x \u001b[39m=\u001b[39m []\n",
      "File \u001b[0;32m~/miniforge3/lib/python3.9/collections/__init__.py:593\u001b[0m, in \u001b[0;36mCounter.__init__\u001b[0;34m(self, iterable, **kwds)\u001b[0m\n\u001b[1;32m    582\u001b[0m \u001b[39m'''Create a new, empty Counter object.  And if given, count elements\u001b[39;00m\n\u001b[1;32m    583\u001b[0m \u001b[39mfrom an input iterable.  Or, initialize the count from another mapping\u001b[39;00m\n\u001b[1;32m    584\u001b[0m \u001b[39mof elements to their counts.\u001b[39;00m\n\u001b[0;32m   (...)\u001b[0m\n\u001b[1;32m    590\u001b[0m \n\u001b[1;32m    591\u001b[0m \u001b[39m'''\u001b[39;00m\n\u001b[1;32m    592\u001b[0m \u001b[39msuper\u001b[39m()\u001b[39m.\u001b[39m\u001b[39m__init__\u001b[39m()\n\u001b[0;32m--> 593\u001b[0m \u001b[39mself\u001b[39;49m\u001b[39m.\u001b[39;49mupdate(iterable, \u001b[39m*\u001b[39;49m\u001b[39m*\u001b[39;49mkwds)\n",
      "File \u001b[0;32m~/miniforge3/lib/python3.9/collections/__init__.py:679\u001b[0m, in \u001b[0;36mCounter.update\u001b[0;34m(self, iterable, **kwds)\u001b[0m\n\u001b[1;32m    677\u001b[0m             \u001b[39msuper\u001b[39m()\u001b[39m.\u001b[39mupdate(iterable)\n\u001b[1;32m    678\u001b[0m     \u001b[39melse\u001b[39;00m:\n\u001b[0;32m--> 679\u001b[0m         _count_elements(\u001b[39mself\u001b[39;49m, iterable)\n\u001b[1;32m    680\u001b[0m \u001b[39mif\u001b[39;00m kwds:\n\u001b[1;32m    681\u001b[0m     \u001b[39mself\u001b[39m\u001b[39m.\u001b[39mupdate(kwds)\n",
      "\u001b[0;31mKeyboardInterrupt\u001b[0m: "
     ]
    }
   ],
   "source": [
    "from InvertedIndex import InvertIndex\n",
    "from tqdm import tqdm\n",
    "import numpy as np\n",
    "import matplotlib.pyplot as plt  \n",
    "import math\n",
    "from scipy.optimize import curve_fit\n",
    "from collections import Counter\n",
    "test = InvertIndex('./datasets', 'test')\n",
    "res = Counter(test.tokens_lib)\n",
    "res = sorted(res.items(), key=lambda x: x[1], reverse=True)\n",
    "x = []\n",
    "y = []\n",
    "cnt = 1\n",
    "for i in tqdm(res):\n",
    "    x.append(math.log10(cnt))\n",
    "    y.append(math.log10(i[1]))\n",
    "    cnt += 1\n",
    "\n",
    "def Fun(x,a1,a2):                   # 定义拟合函数形式\n",
    "    return a1*x+a2\n",
    "para,pcov=curve_fit(Fun,x,y)\n",
    "print(para)\n",
    "x2 = x.copy()\n",
    "x2.insert(0,0)\n",
    "y2 = [para[0]*i+para[1] for i in x2]\n",
    "\n",
    "l1=plt.plot(x,y,'r',label='original')\n",
    "l2 = plt.plot(x2,y2,'b--',label='fit')\n",
    "plt.title('Zipf\\'s Law on Small Datasets')\n",
    "plt.xlabel('lg rank')\n",
    "plt.ylabel('lg cf')\n",
    "plt.legend()\n",
    "plt.show()"
   ]
  },
  {
   "cell_type": "code",
   "execution_count": 14,
   "metadata": {},
   "outputs": [
    {
     "name": "stdout",
     "output_type": "stream",
     "text": [
      "正在加载已有索引\n"
     ]
    },
    {
     "ename": "KeyboardInterrupt",
     "evalue": "",
     "output_type": "error",
     "traceback": [
      "\u001b[0;31m---------------------------------------------------------------------------\u001b[0m",
      "\u001b[0;31mKeyboardInterrupt\u001b[0m                         Traceback (most recent call last)",
      "\u001b[1;32m/Users/alex_shen/SynologyDrive/PcBackup/深圳大学/课程/大三下/信息检索/大作业/code/testcode.ipynb Cell 5'\u001b[0m in \u001b[0;36m<cell line: 9>\u001b[0;34m()\u001b[0m\n\u001b[1;32m      <a href='vscode-notebook-cell:/Users/alex_shen/SynologyDrive/PcBackup/%E6%B7%B1%E5%9C%B3%E5%A4%A7%E5%AD%A6/%E8%AF%BE%E7%A8%8B/%E5%A4%A7%E4%B8%89%E4%B8%8B/%E4%BF%A1%E6%81%AF%E6%A3%80%E7%B4%A2/%E5%A4%A7%E4%BD%9C%E4%B8%9A/code/testcode.ipynb#ch0000005?line=6'>7</a>\u001b[0m \u001b[39mfrom\u001b[39;00m \u001b[39mcollections\u001b[39;00m \u001b[39mimport\u001b[39;00m Counter\n\u001b[1;32m      <a href='vscode-notebook-cell:/Users/alex_shen/SynologyDrive/PcBackup/%E6%B7%B1%E5%9C%B3%E5%A4%A7%E5%AD%A6/%E8%AF%BE%E7%A8%8B/%E5%A4%A7%E4%B8%89%E4%B8%8B/%E4%BF%A1%E6%81%AF%E6%A3%80%E7%B4%A2/%E5%A4%A7%E4%BD%9C%E4%B8%9A/code/testcode.ipynb#ch0000005?line=7'>8</a>\u001b[0m test \u001b[39m=\u001b[39m InvertIndex(\u001b[39m'\u001b[39m\u001b[39m./datasets\u001b[39m\u001b[39m'\u001b[39m, \u001b[39m'\u001b[39m\u001b[39mwhole\u001b[39m\u001b[39m'\u001b[39m)\n\u001b[0;32m----> <a href='vscode-notebook-cell:/Users/alex_shen/SynologyDrive/PcBackup/%E6%B7%B1%E5%9C%B3%E5%A4%A7%E5%AD%A6/%E8%AF%BE%E7%A8%8B/%E5%A4%A7%E4%B8%89%E4%B8%8B/%E4%BF%A1%E6%81%AF%E6%A3%80%E7%B4%A2/%E5%A4%A7%E4%BD%9C%E4%B8%9A/code/testcode.ipynb#ch0000005?line=8'>9</a>\u001b[0m res \u001b[39m=\u001b[39m Counter(test\u001b[39m.\u001b[39;49mtokens_lib)\n\u001b[1;32m     <a href='vscode-notebook-cell:/Users/alex_shen/SynologyDrive/PcBackup/%E6%B7%B1%E5%9C%B3%E5%A4%A7%E5%AD%A6/%E8%AF%BE%E7%A8%8B/%E5%A4%A7%E4%B8%89%E4%B8%8B/%E4%BF%A1%E6%81%AF%E6%A3%80%E7%B4%A2/%E5%A4%A7%E4%BD%9C%E4%B8%9A/code/testcode.ipynb#ch0000005?line=9'>10</a>\u001b[0m res \u001b[39m=\u001b[39m \u001b[39msorted\u001b[39m(res\u001b[39m.\u001b[39mitems(), key\u001b[39m=\u001b[39m\u001b[39mlambda\u001b[39;00m x: x[\u001b[39m1\u001b[39m], reverse\u001b[39m=\u001b[39m\u001b[39mTrue\u001b[39;00m)\n\u001b[1;32m     <a href='vscode-notebook-cell:/Users/alex_shen/SynologyDrive/PcBackup/%E6%B7%B1%E5%9C%B3%E5%A4%A7%E5%AD%A6/%E8%AF%BE%E7%A8%8B/%E5%A4%A7%E4%B8%89%E4%B8%8B/%E4%BF%A1%E6%81%AF%E6%A3%80%E7%B4%A2/%E5%A4%A7%E4%BD%9C%E4%B8%9A/code/testcode.ipynb#ch0000005?line=10'>11</a>\u001b[0m x \u001b[39m=\u001b[39m []\n",
      "File \u001b[0;32m~/miniforge3/lib/python3.9/collections/__init__.py:593\u001b[0m, in \u001b[0;36mCounter.__init__\u001b[0;34m(self, iterable, **kwds)\u001b[0m\n\u001b[1;32m    582\u001b[0m \u001b[39m'''Create a new, empty Counter object.  And if given, count elements\u001b[39;00m\n\u001b[1;32m    583\u001b[0m \u001b[39mfrom an input iterable.  Or, initialize the count from another mapping\u001b[39;00m\n\u001b[1;32m    584\u001b[0m \u001b[39mof elements to their counts.\u001b[39;00m\n\u001b[0;32m   (...)\u001b[0m\n\u001b[1;32m    590\u001b[0m \n\u001b[1;32m    591\u001b[0m \u001b[39m'''\u001b[39;00m\n\u001b[1;32m    592\u001b[0m \u001b[39msuper\u001b[39m()\u001b[39m.\u001b[39m\u001b[39m__init__\u001b[39m()\n\u001b[0;32m--> 593\u001b[0m \u001b[39mself\u001b[39;49m\u001b[39m.\u001b[39;49mupdate(iterable, \u001b[39m*\u001b[39;49m\u001b[39m*\u001b[39;49mkwds)\n",
      "File \u001b[0;32m~/miniforge3/lib/python3.9/collections/__init__.py:679\u001b[0m, in \u001b[0;36mCounter.update\u001b[0;34m(self, iterable, **kwds)\u001b[0m\n\u001b[1;32m    677\u001b[0m             \u001b[39msuper\u001b[39m()\u001b[39m.\u001b[39mupdate(iterable)\n\u001b[1;32m    678\u001b[0m     \u001b[39melse\u001b[39;00m:\n\u001b[0;32m--> 679\u001b[0m         _count_elements(\u001b[39mself\u001b[39;49m, iterable)\n\u001b[1;32m    680\u001b[0m \u001b[39mif\u001b[39;00m kwds:\n\u001b[1;32m    681\u001b[0m     \u001b[39mself\u001b[39m\u001b[39m.\u001b[39mupdate(kwds)\n",
      "\u001b[0;31mKeyboardInterrupt\u001b[0m: "
     ]
    }
   ],
   "source": [
    "from InvertedIndex import InvertIndex\n",
    "from tqdm import tqdm\n",
    "import numpy as np\n",
    "import matplotlib.pyplot as plt  \n",
    "import math\n",
    "from scipy.optimize import curve_fit\n",
    "from collections import Counter\n",
    "test = InvertIndex('./datasets', 'whole')\n",
    "res = Counter(test.tokens_lib)\n",
    "res = sorted(res.items(), key=lambda x: x[1], reverse=True)\n",
    "x = []\n",
    "y = []\n",
    "cnt = 1\n",
    "for i in tqdm(res):\n",
    "    x.append(math.log10(cnt))\n",
    "    y.append(math.log10(i[1]))\n",
    "    cnt += 1\n",
    "\n",
    "def Fun(x,a1,a2):                   # 定义拟合函数形式\n",
    "    return a1*x+a2\n",
    "para,pcov=curve_fit(Fun,x,y)\n",
    "print(para)\n",
    "x2 = x.copy()\n",
    "x2.insert(0,0)\n",
    "y2 = [para[0]*i+para[1] for i in x2]\n",
    "\n",
    "l1=plt.plot(x,y,'r',label='original')\n",
    "l2 = plt.plot(x2,y2,'b--',label='fit')\n",
    "plt.title('Zipf\\'s Law on Big Datasets')\n",
    "plt.xlabel('lg rank')\n",
    "plt.ylabel('lg cf')\n",
    "plt.legend()\n",
    "plt.show()"
   ]
  }
 ],
 "metadata": {
  "kernelspec": {
   "display_name": "Python 3.9.7 ('base')",
   "language": "python",
   "name": "python3"
  },
  "language_info": {
   "codemirror_mode": {
    "name": "ipython",
    "version": 3
   },
   "file_extension": ".py",
   "mimetype": "text/x-python",
   "name": "python",
   "nbconvert_exporter": "python",
   "pygments_lexer": "ipython3",
   "version": "3.9.7"
  },
  "orig_nbformat": 4,
  "vscode": {
   "interpreter": {
    "hash": "2b38f256b5e5cfcb08c8fab1bb2c0ed1d264b1b0baf1af9aa926f047321c09a2"
   }
  }
 },
 "nbformat": 4,
 "nbformat_minor": 2
}
